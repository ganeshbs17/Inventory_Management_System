{
 "cells": [
  {
   "cell_type": "markdown",
   "id": "4388ef20",
   "metadata": {},
   "source": [
    " #                  Inventory Management System"
   ]
  },
  {
   "cell_type": "markdown",
   "id": "3c875720",
   "metadata": {},
   "source": [
    "## Features\n",
    "\n",
    "* Loads data from a json file\n",
    "* Shows the list of products available in inventory to user\n",
    "* Can take multiple product inputs at once\n",
    "* Displays the bill and Update the inventory\n",
    "* Saves the Sales record into a Text file\n",
    "* Admin panel with login Feature to Manage inventory\n"
   ]
  },
  {
   "cell_type": "markdown",
   "id": "bc7ccfd5",
   "metadata": {},
   "source": [
    "###  Run Each cell till the end to Execute Main Program"
   ]
  },
  {
   "cell_type": "code",
   "execution_count": 13,
   "id": "922d4c31",
   "metadata": {},
   "outputs": [],
   "source": [
    "#import required libraries\n",
    "\n",
    "import json\n",
    "from random import random"
   ]
  },
  {
   "cell_type": "markdown",
   "id": "fd387f28",
   "metadata": {},
   "source": [
    "#### Function to verify credentials for admin login"
   ]
  },
  {
   "cell_type": "code",
   "execution_count": 14,
   "id": "4488f9c4",
   "metadata": {},
   "outputs": [],
   "source": [
    "def login(i_username, i_password):\n",
    "    with open('inventory.json', 'r') as inv:\n",
    "        data = json.load(inv)\n",
    "        credentials = data['credentials']\n",
    "        username = credentials['username']\n",
    "        password = credentials['password']\n",
    "\n",
    "        if i_username != username or i_password != password:\n",
    "            return False\n",
    "        else:\n",
    "            return True"
   ]
  },
  {
   "cell_type": "markdown",
   "id": "9665fce5",
   "metadata": {},
   "source": [
    "#### Admin login Function "
   ]
  },
  {
   "cell_type": "code",
   "execution_count": 15,
   "id": "3a768073",
   "metadata": {},
   "outputs": [],
   "source": [
    "def admin():\n",
    "    print(\"\\t\"*3 + \"-\"*5 + \"LOGIN\" + \"-\"*5)\n",
    "    username = input('Enter username: ').strip()\n",
    "    password = input('Enter password: ').strip()\n",
    "\n",
    "    if login(username, password):\n",
    "        print('Logged in sucessfully!')\n",
    "        admin_panel()\n",
    "    else:\n",
    "        print('Please enter correct username & password')\n",
    "        return admin()"
   ]
  },
  {
   "cell_type": "markdown",
   "id": "253c80f4",
   "metadata": {},
   "source": [
    "#### Function to View inventory items"
   ]
  },
  {
   "cell_type": "code",
   "execution_count": 29,
   "id": "7711fa1a",
   "metadata": {},
   "outputs": [],
   "source": [
    "def view_product():\n",
    "    with open('inventory.json','r') as inv:\n",
    "        data=json.load(inv)\n",
    "        inv.close()\n",
    "        print('Product ID Product Name \\t  Category \\t\\tBrand')\n",
    "        print(\"-\" *75)\n",
    "        for product_id, product in data['products'].items():\n",
    "            print(f\"{product_id : <10} \",f\"{product['name']: <22}\",f\"{product['category']: <20}\",f\"{product['brand']: <15}\")"
   ]
  },
  {
   "cell_type": "code",
   "execution_count": 30,
   "id": "aaf96ef8",
   "metadata": {},
   "outputs": [
    {
     "name": "stdout",
     "output_type": "stream",
     "text": [
      "Product ID Product Name \t  Category \t\tBrand\n",
      "---------------------------------------------------------------------------\n",
      "3326        Tomato                 Vegetable            Generic        \n",
      "4243        Yippie                 Noodles              ITC            \n",
      "4278        HappyHappy Biscuit     Biscuit              Parle          \n",
      "4438        KitKat                 Chocolate            Nestle         \n",
      "4494        Water                  Drinks               Bisleri        \n",
      "4918        Kurkure                Snacks               Parle          \n",
      "5380        Lux                    Soap                 Unilever       \n",
      "5383        Maggi                  Noodles              Nestle         \n",
      "5682        Mango                  Fruits               Generic        \n",
      "5718        Tea powder             Drinks               Taj            \n",
      "6384        Munch                  Chocolate            Nestle         \n",
      "6391        Cofee                  Drinks               Nestle         \n",
      "6600        wheat flour            Flour                Ashirwad       \n",
      "6890        Bread                  Dairy                Mishras        \n",
      "7145        Onions                 Vegetable            Generic        \n",
      "7310        Eggs                   Dairy                Generic        \n",
      "7605        Lays                   Chips                Fritolay       \n",
      "7671        Cheese                 Dairy                Amul           \n",
      "8088        Rice                   Grains               Kohinoor       \n",
      "8249        Coconut Oil            Oil                  Parachute      \n",
      "8289        Bananas                Fruits               Generic        \n",
      "8803        Apple                  Fruits               Generic        \n",
      "8994        Iodex                  Balm                 GSK            \n",
      "9271        GoodDay                Coockies             Britania       \n",
      "9466        Ball pen               Stationery           Reynolds       \n",
      "9800        Soda                   Drinks               PepsiCo        \n"
     ]
    }
   ],
   "source": [
    "# Run this to View Products\n",
    "view_product()"
   ]
  },
  {
   "cell_type": "markdown",
   "id": "638b79a4",
   "metadata": {},
   "source": [
    "#### Function to Add a product into inventory"
   ]
  },
  {
   "cell_type": "code",
   "execution_count": 17,
   "id": "c7f71b2f",
   "metadata": {},
   "outputs": [],
   "source": [
    "def add_product():\n",
    "    product_name = input('Enter product name: ').strip()\n",
    "    quantity = int(input('Enter Quantity available: ').strip())\n",
    "    category = input('Enter Category: ').strip()\n",
    "    brand = input('Enter Brand: ').strip()\n",
    "    price = float(input('Enter price: ').strip())\n",
    "\n",
    "    if not product_name:\n",
    "        print('Please fill all the fields correctly ...')\n",
    "        return add_product()\n",
    "\n",
    "    product_id = str(int(random() * 10000))\n",
    "    with open('inventory.json', 'r') as inv:\n",
    "        data = json.load(inv)\n",
    "        data['products'][product_id] = {\n",
    "            \"name\": product_name,\n",
    "            \"price\": price,\n",
    "            \"quantity\" : quantity,\n",
    "            \"category\" : category,\n",
    "            \"brand\" : brand\n",
    "        }\n",
    "        with open('inventory.json', 'w') as inv:\n",
    "            json.dump(data, inv, indent=2, sort_keys=True)\n",
    "           \n",
    "    return admin_panel()"
   ]
  },
  {
   "cell_type": "code",
   "execution_count": null,
   "id": "95e826d6",
   "metadata": {},
   "outputs": [],
   "source": [
    "# Execute this to test Add product function\n",
    "add_product()"
   ]
  },
  {
   "cell_type": "markdown",
   "id": "bfd8f7dc",
   "metadata": {},
   "source": [
    "#### Function to search a product from inventory"
   ]
  },
  {
   "cell_type": "code",
   "execution_count": 18,
   "id": "34083fc5",
   "metadata": {},
   "outputs": [],
   "source": [
    "def search_product():\n",
    "    product_name = input('Search product: ').strip()\n",
    "    with open('inventory.json', 'r') as inv:\n",
    "        data = json.load(inv)\n",
    "        for product_id, product in data['products'].items():\n",
    "            if product['name'].find(product_name) > -1:\n",
    "                print(f\"Product ID: {product_id}\")\n",
    "                print(f\"Product Name: {product['name']}\")\n",
    "                print(f\"Price: {product['price']}\")\n",
    "                print(f\"Available quantity: {product['quantity']}\")\n",
    "                print(f\"Category: {product['category']}\")\n",
    "                print(f\"Brand: {product['brand']}\")\n",
    "                \n",
    "                \n",
    "                print(\"-\"*10)"
   ]
  },
  {
   "cell_type": "code",
   "execution_count": 34,
   "id": "9d2579f7",
   "metadata": {},
   "outputs": [
    {
     "name": "stdout",
     "output_type": "stream",
     "text": [
      "Search product: pen\n",
      "Product ID: 9466\n",
      "Product Name: Ball pen\n",
      "Price: 7.0\n",
      "Available quantity: 73\n",
      "Category: Stationery\n",
      "Brand: Reynolds\n",
      "----------\n"
     ]
    }
   ],
   "source": [
    "# Run this to test Search product function\n",
    "search_product()"
   ]
  },
  {
   "cell_type": "markdown",
   "id": "18e15286",
   "metadata": {},
   "source": [
    "#### Updating an Existing product from inventory"
   ]
  },
  {
   "cell_type": "code",
   "execution_count": 39,
   "id": "f0fa9b46",
   "metadata": {},
   "outputs": [],
   "source": [
    "def update_product():\n",
    "    product_id = input('Enter product id: ').strip()\n",
    "    if not product_id:\n",
    "        print(\"Please enter a valid id ...\")\n",
    "        return update_product()\n",
    "\n",
    "    with open('inventory.json', 'r') as inv:\n",
    "        data = json.load(inv)\n",
    "        ids = data['products'].keys()\n",
    "        if product_id not in ids:\n",
    "            print(\"Please enter a valid id ...\")\n",
    "            return update_product()\n",
    "        print('Hit \"Enter\" to skip updating that value')\n",
    "        u_name = input('Enter updated product name: ').strip()\n",
    "        u_price =input('Enter updated price: ').strip()\n",
    "        u_quantity = input('Enter number added: ').strip()\n",
    "        u_category = input('Enter updated category: ').strip()\n",
    "        u_brand = input('Enter updated brand: ').strip()\n",
    "        \n",
    "\n",
    "        if not u_name:\n",
    "            u_name = data['products'][product_id]['name']\n",
    "            \n",
    "        if not u_price:\n",
    "            u_price = data['products'][product_id]['price']\n",
    "        \n",
    "        if not u_category:\n",
    "            u_category = data['products'][product_id]['category']\n",
    "\n",
    "        if not u_brand:\n",
    "            u_brand = data['products'][product_id]['brand']\n",
    "            \n",
    "        if not u_quantity:\n",
    "            u_quantity = data['products'][product_id]['quantity']\n",
    "\n",
    "        updated_product = {\n",
    "            \"name\": u_name,\n",
    "            \"price\": int(u_price),\n",
    "            \"quantity\" : data['products'][product_id]['quantity'] + int(u_quantity),\n",
    "            \"category\" : u_category,\n",
    "            \"brand\" : u_brand\n",
    "        }\n",
    "\n",
    "        data['products'][product_id] = updated_product\n",
    "\n",
    "        with open('inventory.json', 'w') as inv:\n",
    "            json.dump(data, inv,indent=2, sort_keys=True)\n",
    "            \n",
    "        return admin_panel()"
   ]
  },
  {
   "cell_type": "code",
   "execution_count": 40,
   "id": "6230f6f2",
   "metadata": {},
   "outputs": [
    {
     "name": "stdout",
     "output_type": "stream",
     "text": [
      "Enter product id: 9466\n",
      "Hit \"Enter\" to skip updating that value\n",
      "Enter updated product name: \n",
      "Enter updated price: 6\n",
      "Enter number added: 5\n",
      "Enter updated category: \n",
      "Enter updated brand: \n"
     ]
    }
   ],
   "source": [
    "# Run this to test Update product function\n",
    "update_product()"
   ]
  },
  {
   "cell_type": "markdown",
   "id": "cdc2f427",
   "metadata": {},
   "source": [
    "#### Function to Delete a Product from inventory"
   ]
  },
  {
   "cell_type": "code",
   "execution_count": 20,
   "id": "006806c4",
   "metadata": {},
   "outputs": [],
   "source": [
    "def delete_product():\n",
    "    product_id = input('Enter product id: ').strip()\n",
    "    if not product_id:\n",
    "        print(\"Please enter a valid id ...\")\n",
    "        return update_product()\n",
    "\n",
    "    with open('inventory.json', 'r') as inv:\n",
    "        data = json.load(inv)\n",
    "        ids = data['products'].keys()\n",
    "        if product_id not in ids:\n",
    "            print(\"Please enter a valid id ...\")\n",
    "            return update_product()\n",
    "\n",
    "        data['products'].pop(product_id)\n",
    "\n",
    "        with open('inventory.json', 'w') as inv:\n",
    "            json.dump(data, inv,indent=2, sort_keys=True)\n",
    "            \n",
    "            \n",
    "    return admin_panel()"
   ]
  },
  {
   "cell_type": "markdown",
   "id": "3c308e84",
   "metadata": {},
   "source": [
    "#### Admin Panel Function"
   ]
  },
  {
   "cell_type": "code",
   "execution_count": 21,
   "id": "cd262d46",
   "metadata": {},
   "outputs": [],
   "source": [
    "def admin_panel():\n",
    "    \n",
    "    print('\\t\\t----------WELCOME TO INVENTORY----------')\n",
    "    print('1- Add product')\n",
    "    print('2- Search product')\n",
    "    print('3- View Products')\n",
    "    print('4- Update product')\n",
    "    print('5- Delete product')\n",
    "    print('6- Logout')\n",
    "\n",
    "    option = int(input('Enter option: ').strip())\n",
    "\n",
    "    if option == 6:\n",
    "        main()\n",
    "\n",
    "    if option < 1 or option > 5:\n",
    "        print('Invalid option')\n",
    "        input('Press <enter> key to continue ...')\n",
    "        return adminpanel()\n",
    "\n",
    "    if option == 1:\n",
    "        add_product()\n",
    "    elif option == 2:\n",
    "        search_product()\n",
    "    elif option==3:\n",
    "        view_product()\n",
    "    elif option == 4:\n",
    "        update_product()\n",
    "    else:\n",
    "        delete_product()\n",
    "\n",
    "    return admin_panel()"
   ]
  },
  {
   "cell_type": "markdown",
   "id": "c4cfb120",
   "metadata": {},
   "source": [
    "#### Function to generate bill and update inventory"
   ]
  },
  {
   "cell_type": "code",
   "execution_count": 22,
   "id": "59e31b2b",
   "metadata": {},
   "outputs": [],
   "source": [
    "def transaction(pdt_ids) :\n",
    "        import time\n",
    "        time.ctime()\n",
    "        \n",
    "        sales = {}\n",
    "        report=[]\n",
    "    \n",
    "        total=0\n",
    "\n",
    "        with open('inventory.json','r') as j_f:\n",
    "            data=json.load(j_f)\n",
    "            \n",
    "        \n",
    "        order={}\n",
    "        report.append(str(time.ctime())+'\\nTransaction ID: '+str(data['transid']))\n",
    "\n",
    "            \n",
    "        for pdt_id in pdt_ids:\n",
    "            print(f\"Selected Product Name: {data['products'][pdt_id]['name']} -\",f\"Price : {data['products'][pdt_id]['price']}\",f\"\\nQuantity Available : {data['products'][pdt_id]['quantity']}\")\n",
    "            order[pdt_id]=input(\"Enter the Quantity\")\n",
    "        \n",
    "        print(\"\\n************Bill***************\\n\")\n",
    "        print(\"Receipt No : \",data['transid'])\n",
    "        print(time.ctime(),'\\n')\n",
    "        for x, y in order.items():\n",
    "            print(f\"{data['products'][x]['name']}  : {data['products'][x]['price']} *\",y,\"=\",int(data['products'][x]['price'])*int(y))\n",
    "            total += (int(data['products'][x]['price'])*int(y))\n",
    "            \n",
    "        print(\"************************************\")\n",
    "        print(\"Total =\",total,\"Rs\")\n",
    "        print(\"************************************\")\n",
    "        \n",
    "        \n",
    "        for k, v in order.items():\n",
    "    \n",
    "            #updating product data in json file\n",
    "            data ['products'][k]['quantity'] = int(int(data ['products'][k]['quantity']) - int(v))\n",
    "            j_f = open(\"inventory.json\", \"w+\")\n",
    "            json.dump(data, j_f, indent=2, sort_keys=True)\n",
    "            data['transid'] += 1\n",
    "   \n",
    "\n",
    "            #generating data for sales file    \n",
    "            report.append('\\nProduct name: '+data['products'][k]['name']+\"\\tQty sold: \"+str(v))\n",
    "            fdr=open('report.txt','a') \n",
    "            \n",
    "        report.append('\\nTotal Amount: ' + str(total) + 'Rs \\n\\n ')\n",
    "        for i in report:\n",
    "            fdr.write(i)\n",
    "        fdr.close()\n",
    "            \n",
    "#     return main()     \n"
   ]
  },
  {
   "cell_type": "markdown",
   "id": "3caacc95",
   "metadata": {},
   "source": [
    "### Dashboard of program\n",
    "\n",
    "User can view list available products.\n",
    "\n",
    "Input the product id's of required products\n",
    "\n",
    "To enter Admin Panel enter '0'\n",
    "\n",
    "Default Credentials: user_id = 'admin'            pass: '12345'"
   ]
  },
  {
   "cell_type": "code",
   "execution_count": 24,
   "id": "6aea9e87",
   "metadata": {},
   "outputs": [
    {
     "name": "stdout",
     "output_type": "stream",
     "text": [
      "\n",
      " \t\t----------WELCOME TO SHOP-------------\n",
      "\n",
      "\t What do you Want to buy \n",
      "Product ID: 3326  : Tomato\n",
      "Product ID: 4243  : Yippie\n",
      "Product ID: 4278  : HappyHappy Biscuit\n",
      "Product ID: 4438  : KitKat\n",
      "Product ID: 4494  : Water\n",
      "Product ID: 4918  : Kurkure\n",
      "Product ID: 5380  : Lux\n",
      "Product ID: 5383  : Maggi\n",
      "Product ID: 5682  : Mango\n",
      "Product ID: 5718  : Tea powder\n",
      "Product ID: 6384  : Munch\n",
      "Product ID: 6391  : Cofee\n",
      "Product ID: 6600  : wheat flour\n",
      "Product ID: 6890  : Bread\n",
      "Product ID: 7145  : Onions\n",
      "Product ID: 7310  : Eggs\n",
      "Product ID: 7605  : Lays\n",
      "Product ID: 7671  : Cheese\n",
      "Product ID: 8088  : Rice\n",
      "Product ID: 8249  : Coconut Oil\n",
      "Product ID: 8289  : Bananas\n",
      "Product ID: 8803  : Apple\n",
      "Product ID: 8994  : Iodex\n",
      "Product ID: 9271  : GoodDay\n",
      "Product ID: 9466  : Ball pen\n",
      "Product ID: 9800  : Soda\n",
      "\n",
      "\t\t\t\t\t\t\t\t\t\t\t Enter 0 for admin login \n",
      "Enter the Product IDs : 4278 6384\n",
      "Selected Product Name: HappyHappy Biscuit - Price : 10.0 \n",
      "Quantity Available : 65\n",
      "Enter the Quantity2\n",
      "Selected Product Name: Munch - Price : 5.0 \n",
      "Quantity Available : 85\n",
      "Enter the Quantity4\n",
      "\n",
      "************Bill***************\n",
      "\n",
      "Receipt No :  20210005\n",
      "Sun Sep  5 17:15:08 2021 \n",
      "\n",
      "HappyHappy Biscuit  : 10.0 * 2 = 20\n",
      "Munch  : 5.0 * 4 = 20\n",
      "************************************\n",
      "Total = 40 Rs\n",
      "************************************\n"
     ]
    }
   ],
   "source": [
    "def main():\n",
    "    ui_pid=[]\n",
    "    print('\\n \\t\\t----------WELCOME TO SHOP-------------\\n')\n",
    "    print('\\t What do you Want to buy ')\n",
    "    view_product()\n",
    "    print('\\n\\t\\t\\t\\t\\t\\t\\t\\t\\t\\t\\t Enter 0 for admin login ')\n",
    "    ui_pid = [item for item in input(\"Enter the Product IDs : \").split()]\n",
    "    \n",
    "    with open('inventory.json', 'r') as inv:\n",
    "        data = json.load(inv)\n",
    "        ids = data['products'].keys()\n",
    "        \n",
    "        if (ui_pid[0]=='0'):\n",
    "            admin()\n",
    "        else:\n",
    "            for i in ui_pid:\n",
    "                if (i not in ids):\n",
    "                    print(\"Invalid Input\")\n",
    "                    main()\n",
    "        transaction(ui_pid)\n",
    "\n",
    "\n",
    "    \n",
    "\n",
    "main()"
   ]
  },
  {
   "cell_type": "code",
   "execution_count": null,
   "id": "ada3bd06",
   "metadata": {},
   "outputs": [],
   "source": []
  }
 ],
 "metadata": {
  "kernelspec": {
   "display_name": "Python 3",
   "language": "python",
   "name": "python3"
  },
  "language_info": {
   "codemirror_mode": {
    "name": "ipython",
    "version": 3
   },
   "file_extension": ".py",
   "mimetype": "text/x-python",
   "name": "python",
   "nbconvert_exporter": "python",
   "pygments_lexer": "ipython3",
   "version": "3.8.8"
  }
 },
 "nbformat": 4,
 "nbformat_minor": 5
}
